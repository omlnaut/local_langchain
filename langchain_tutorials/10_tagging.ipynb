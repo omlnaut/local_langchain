{
 "cells": [
  {
   "cell_type": "markdown",
   "metadata": {},
   "source": [
    "# Tagging"
   ]
  },
  {
   "cell_type": "markdown",
   "metadata": {},
   "source": [
    "Following: https://python.langchain.com/v0.2/docs/tutorials/classification/"
   ]
  },
  {
   "cell_type": "code",
   "execution_count": 1,
   "metadata": {},
   "outputs": [],
   "source": [
    "from utils import load_openai_key\n",
    "\n",
    "load_openai_key()"
   ]
  },
  {
   "cell_type": "code",
   "execution_count": 6,
   "metadata": {},
   "outputs": [],
   "source": [
    "from langchain_core.prompts import ChatPromptTemplate\n",
    "from langchain_core.pydantic_v1 import BaseModel, Field\n",
    "from langchain_openai import ChatOpenAI\n",
    "\n",
    "tagging_prompt = ChatPromptTemplate.from_template(\n",
    "    \"\"\"\n",
    "Extract the desired information from the following passage.\n",
    "\n",
    "Only extract the properties mentioned in the 'Classification' function.\n",
    "\n",
    "Passage:\n",
    "{input}\n",
    "\"\"\"\n",
    ")\n",
    "\n",
    "\n",
    "class Classification(BaseModel):\n",
    "    sentiment: str = Field(description=\"The sentiment of the text\")\n",
    "    aggressiveness: int = Field(\n",
    "        description=\"How aggressive the text is on a scale from 1 to 10\"\n",
    "    )\n",
    "    language: str = Field(description=\"The language the text is written in\")\n",
    "    critique: list[str] = Field(description=\"Bullet points of what the movie could have done better\")\n",
    "\n",
    "\n",
    "# LLM\n",
    "llm = ChatOpenAI(temperature=0, model=\"gpt-3.5-turbo-0125\").with_structured_output(\n",
    "    Classification\n",
    ")\n",
    "\n",
    "tagging_chain = tagging_prompt | llm\n"
   ]
  },
  {
   "cell_type": "code",
   "execution_count": 7,
   "metadata": {},
   "outputs": [
    {
     "data": {
      "text/plain": [
       "{'sentiment': 'negative',\n",
       " 'aggressiveness': 3,\n",
       " 'language': 'German',\n",
       " 'critique': ['Potential was not fully utilized',\n",
       "  'Too many plot points',\n",
       "  'Lack of detail in the remaining plot',\n",
       "  'Story was not strong'],\n",
       " 'positive': ['Good actors']}"
      ]
     },
     "execution_count": 7,
     "metadata": {},
     "output_type": "execute_result"
    }
   ],
   "source": [
    "inp = \"Ich fande Dune 2 hatte leider viel verschenktes Potential. Aber paar weniger Plotpunkte, dafür aber Detail in dem was übrig bleibt wäre gut gewesen. Die Schauspieler waren gut, aber die Story war nicht so gut.\"\n",
    "\n",
    "res = tagging_chain.invoke({\"input\": inp})\n",
    "res.dict()"
   ]
  },
  {
   "cell_type": "markdown",
   "metadata": {},
   "source": [
    "# Finer control"
   ]
  },
  {
   "cell_type": "code",
   "execution_count": 17,
   "metadata": {},
   "outputs": [],
   "source": [
    "class Classification(BaseModel):\n",
    "    sentiment: str = Field(description=\"The sentiment of the text\", enum=['postive', 'negative', 'neutral'])\n",
    "    aggressiveness: int = Field(\n",
    "        description=\"How aggressive the text is. Higher number means more aggressive\",\n",
    "        enum=[1, 2, 3, 4, 5]\n",
    "    )\n",
    "    language: str = Field(description=\"The language the text is written in\")\n",
    "    critique: list[str] = Field(description=\"Bullet points of what the movie could have done better, in english\")\n",
    "    positive_aspects: list[str] = Field(description=\"Bullet points of what the movie did well, in english\")"
   ]
  },
  {
   "cell_type": "code",
   "execution_count": 18,
   "metadata": {},
   "outputs": [],
   "source": [
    "# LLM\n",
    "llm = ChatOpenAI(temperature=0, model=\"gpt-3.5-turbo-0125\").with_structured_output(\n",
    "    Classification\n",
    ")\n",
    "\n",
    "tagging_chain = tagging_prompt | llm"
   ]
  },
  {
   "cell_type": "code",
   "execution_count": 19,
   "metadata": {},
   "outputs": [
    {
     "data": {
      "text/plain": [
       "{'sentiment': 'negative',\n",
       " 'aggressiveness': 3,\n",
       " 'language': 'German',\n",
       " 'critique': ['Potential wurde verschenkt',\n",
       "  'Zu viele Plotpunkte',\n",
       "  'Story war nicht so gut'],\n",
       " 'positive_aspects': ['Gute Schauspieler']}"
      ]
     },
     "execution_count": 19,
     "metadata": {},
     "output_type": "execute_result"
    }
   ],
   "source": [
    "res = tagging_chain.invoke({\"input\": inp})\n",
    "res.dict()"
   ]
  },
  {
   "cell_type": "code",
   "execution_count": 20,
   "metadata": {},
   "outputs": [
    {
     "data": {
      "text/plain": [
       "{'sentiment': 'postive',\n",
       " 'aggressiveness': 1,\n",
       " 'language': 'english',\n",
       " 'critique': [],\n",
       " 'positive_aspects': ['Great movie',\n",
       "  'Loved the story',\n",
       "  'Amazing actors',\n",
       "  'Recommend to friends']}"
      ]
     },
     "execution_count": 20,
     "metadata": {},
     "output_type": "execute_result"
    }
   ],
   "source": [
    "res = tagging_chain.invoke({\"input\": \"Dune 2 was a great movie. I loved the story and the actors were amazing. I would definitely recommend it to my friends.\"})\n",
    "res.dict()"
   ]
  },
  {
   "cell_type": "code",
   "execution_count": 21,
   "metadata": {},
   "outputs": [
    {
     "data": {
      "text/plain": [
       "{'sentiment': 'positive',\n",
       " 'aggressiveness': 1,\n",
       " 'language': 'Danish',\n",
       " 'critique': [],\n",
       " 'positive_aspects': ['Great story',\n",
       "  'Fantastic actors',\n",
       "  'Recommendation to friends']}"
      ]
     },
     "execution_count": 21,
     "metadata": {},
     "output_type": "execute_result"
    }
   ],
   "source": [
    "res = tagging_chain.invoke({\"input\": \"Dune 2 var en fantastisk film. Jeg elskede historien, og skuespillerne var fantastiske. Jeg vil helt sikkert anbefale den til mine venner.\"})\n",
    "res.dict()"
   ]
  },
  {
   "cell_type": "code",
   "execution_count": null,
   "metadata": {},
   "outputs": [],
   "source": []
  }
 ],
 "metadata": {
  "kernelspec": {
   "display_name": "langchain",
   "language": "python",
   "name": "python3"
  },
  "language_info": {
   "codemirror_mode": {
    "name": "ipython",
    "version": 3
   },
   "file_extension": ".py",
   "mimetype": "text/x-python",
   "name": "python",
   "nbconvert_exporter": "python",
   "pygments_lexer": "ipython3",
   "version": "3.11.9"
  }
 },
 "nbformat": 4,
 "nbformat_minor": 2
}
