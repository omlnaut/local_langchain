{
 "cells": [
  {
   "cell_type": "markdown",
   "metadata": {},
   "source": [
    "# Dresden und KI"
   ]
  },
  {
   "cell_type": "markdown",
   "metadata": {},
   "source": [
    "Es soll ein RAG System für das Befragen der \"Künstliche Intelligenz\"-Seite von dresden.de erstellt werden."
   ]
  },
  {
   "cell_type": "code",
   "execution_count": 8,
   "metadata": {},
   "outputs": [],
   "source": [
    "base_url = \"https://www.dresden.de/de/wirtschaft/tomorrow-s-home/kuenstliche-intelligenz.php\"\n",
    "content_class = \"contentsection-container \""
   ]
  },
  {
   "cell_type": "code",
   "execution_count": 9,
   "metadata": {},
   "outputs": [],
   "source": [
    "from langchain_community.document_loaders import WebBaseLoader\n",
    "import bs4\n",
    "\n",
    "loader = WebBaseLoader(\n",
    "    web_paths=(base_url,),\n",
    "    bs_kwargs=dict(\n",
    "        parse_only=bs4.SoupStrainer(\n",
    "            class_=(content_class)\n",
    "        )\n",
    "    ),\n",
    ")\n",
    "docs = loader.load()"
   ]
  },
  {
   "cell_type": "code",
   "execution_count": 10,
   "metadata": {},
   "outputs": [
    {
     "data": {
      "text/plain": [
       "1"
      ]
     },
     "execution_count": 10,
     "metadata": {},
     "output_type": "execute_result"
    }
   ],
   "source": [
    "len(docs)"
   ]
  },
  {
   "cell_type": "code",
   "execution_count": 12,
   "metadata": {},
   "outputs": [],
   "source": [
    "from langchain_text_splitters import RecursiveCharacterTextSplitter\n",
    "\n",
    "\n",
    "text_splitter = RecursiveCharacterTextSplitter(chunk_size=1000, chunk_overlap=200)\n",
    "splits = text_splitter.split_documents(docs)"
   ]
  },
  {
   "cell_type": "code",
   "execution_count": 13,
   "metadata": {},
   "outputs": [
    {
     "data": {
      "text/plain": [
       "21"
      ]
     },
     "execution_count": 13,
     "metadata": {},
     "output_type": "execute_result"
    }
   ],
   "source": [
    "len(splits)"
   ]
  },
  {
   "cell_type": "code",
   "execution_count": 15,
   "metadata": {},
   "outputs": [],
   "source": [
    "from utils import load_openai_key\n",
    "from langchain_openai import ChatOpenAI\n",
    "\n",
    "load_openai_key()\n",
    "llm = ChatOpenAI(model=\"gpt-4o\")"
   ]
  },
  {
   "cell_type": "code",
   "execution_count": 16,
   "metadata": {},
   "outputs": [],
   "source": [
    "from langchain_chroma import Chroma\n",
    "from langchain_openai import OpenAIEmbeddings\n",
    "\n",
    "vectorstore = Chroma.from_documents(documents=splits, embedding=OpenAIEmbeddings())\n",
    "retriever = vectorstore.as_retriever()"
   ]
  },
  {
   "cell_type": "code",
   "execution_count": 22,
   "metadata": {},
   "outputs": [],
   "source": [
    "from langchain.chains import create_retrieval_chain\n",
    "from langchain.chains.combine_documents import create_stuff_documents_chain\n",
    "from langchain_core.prompts import ChatPromptTemplate\n",
    "\n",
    "system_prompt = (\n",
    "    \"You are an assistant for question-answering tasks. \"\n",
    "    \"Use the following pieces of retrieved context to answer \"\n",
    "    \"the question. If you don't know the answer, say that you \"\n",
    "    \"don't know. Use three sentences maximum and keep the \"\n",
    "    \"answer concise. If you used a specific piece of context, clearly say so\"\n",
    "    \"\\n\\n\"\n",
    "    \"{context}\"\n",
    ")\n",
    "\n",
    "prompt = ChatPromptTemplate.from_messages(\n",
    "    [\n",
    "        (\"system\", system_prompt),\n",
    "        (\"human\", \"{input}\"),\n",
    "    ]\n",
    ")\n",
    "\n",
    "question_answer_chain = create_stuff_documents_chain(llm, prompt)\n",
    "rag_chain = create_retrieval_chain(retriever, question_answer_chain)"
   ]
  },
  {
   "cell_type": "code",
   "execution_count": 24,
   "metadata": {},
   "outputs": [
    {
     "data": {
      "text/plain": [
       "{'input': 'Was sind aktuelle KI Themen in Dresden?',\n",
       " 'context': [Document(page_content='Ob Suchmaschinen, Smart Citys oder autonomes Fahren – Künstliche Intelligenz (KI) findet auch im Alltag eine immer breitere Anwendung. In der KI-Metropole Dresden werden dafür die Voraussetzungen geschaffen. Die sächsische Landeshauptstadt ist einer der führenden Hochtechnologiestandorte Europas und an der Weiterentwicklung von kritischer KI-Hardware, Halbleitern und KI-Software beteiligt. Die hohe Dichte von exzellenten Unternehmen, Start-ups und Forschungseinrichtungen, die sich am Standort angesiedelt haben, macht Dresden zu einem einmaligen Cluster der Künstlichen Intelligenz.\\n\\n\\n\\n\\n\\n\\n\\n\\n\\n\\n\\n\\nDas CeTI der TU Dresden: Künstliche Intelligenz zum Anfassen\\n\\n\\n\\n\\n\\n\\n\\n\\n\\n\\n\\n© CeTI Dresden, intoVR', metadata={'source': 'https://www.dresden.de/de/wirtschaft/tomorrow-s-home/kuenstliche-intelligenz.php'}),\n",
       "  Document(page_content='Kollaboratives Arbeiten von Menschen und Robotern könnte in der Produktion der Zukunft zu deutlichen Effizienzsteigerungen führen. Die industrielle Anwendung der Technologie steht derzeit allerdings noch vor einigen Hürden – beispielsweise der Gefahr von Unfällen und der Frage, wie Dienstleister ihre smarten Roboter am besten abrechnen können. Zwei Herausforderungen, die das Smart Systems Hub aus Dresden im Rahmen seines Innovationprogramms „Digital Product Factory“ nun überwinden möchte. Teilnehmer des aktuellen Programms zur Verbesserung der Mensch-Maschine-Interaktion sind der Dresdner Chip-Hersteller Infineon und die Softwarespezialisten SAP, objective partner und Wandelbots. Gemeinsam arbeiten die vier Unternehmen an der Entwicklung eines smarten Produktionshelfers. Dabei werden die „Augen“ des Roboters von Infineon entwickelt, während die „Muskeln“ von Wandelbots und das „Nervensystem“ von SAP und objective partner stammen. Das Besondere an dem Projekt: Dank Sensorfusion,', metadata={'source': 'https://www.dresden.de/de/wirtschaft/tomorrow-s-home/kuenstliche-intelligenz.php'}),\n",
       "  Document(page_content='unter anderem das internationale „Human Brain Project“ sowie das „Zen“-Konzept und das Projekt „Spinnaker 2“der TU Dresden genannt werden. GLOBALFOUNDRIES hat durch sein Engagement in Forschung und Entwicklung dazu beigetragen, den Halbleiter-Standort Dresden als führendes Mikro- und Nanoelektronikzentrum in Europa zu etablieren.', metadata={'source': 'https://www.dresden.de/de/wirtschaft/tomorrow-s-home/kuenstliche-intelligenz.php'}),\n",
       "  Document(page_content='die „Augen“ des Roboters von Infineon entwickelt, während die „Muskeln“ von Wandelbots und das „Nervensystem“ von SAP und objective partner stammen. Das Besondere an dem Projekt: Dank Sensorfusion, Künstlicher Intelligenz und Edge-Cloud ist der Roboter dazu in der Lage, kollaborative Tätigkeiten zu erkennen und sich bestimmte Arbeitsschritte antrainieren zu lassen. Darüber hinaus ermöglicht die Technologie eine digitale Abrechnung im Sinne eines ganzheitlichen und skalierbaren Geschäftsmodells, das auch als „robot and asset as a service“ bezeichnet wird. Das Smart Systems Hub Dresden gestaltet die virtuellen und physischen Räume für die Kooperation, leitet methodisch die Produktentwicklung und übernimmt die Organisation und die Akquise von Know-How.', metadata={'source': 'https://www.dresden.de/de/wirtschaft/tomorrow-s-home/kuenstliche-intelligenz.php'})],\n",
       " 'answer': 'In Dresden sind aktuelle KI-Themen die Entwicklung kritischer KI-Hardware, Halbleiter und KI-Software, kollaborative Arbeiten von Menschen und Robotern zur Steigerung der Produktionseffizienz sowie die Verbesserung der Mensch-Maschine-Interaktion. Das Smart Systems Hub Dresden arbeitet an der Schaffung smarter Produktionshelfer und fördert die Sensorfusion, Künstliche Intelligenz und Edge-Cloud-Technologien. Zudem wird an digitalen Abrechnungsmodellen wie „robot and asset as a service“ gearbeitet. (Quellen: KI-Metropole Dresden, Smart Systems Hub Dresden)'}"
      ]
     },
     "execution_count": 24,
     "metadata": {},
     "output_type": "execute_result"
    }
   ],
   "source": [
    "rag_chain.invoke({\"input\": \"Was sind aktuelle KI Themen in Dresden?\"})"
   ]
  },
  {
   "cell_type": "code",
   "execution_count": 25,
   "metadata": {},
   "outputs": [
    {
     "data": {
      "text/plain": [
       "{'input': 'Wie viele Prozessschritte sind für die Wafer von Bosch notwendig?',\n",
       " 'context': [Document(page_content='Rund eine Milliarde Euro hat Bosch in seine Dresdner „Waferfab“ investiert – mehr als jemals zuvor in der traditionsreichen Geschichte des Unternehmens. Das Ergebnis: eine der modernsten Chip-Fabriken der Welt. Produziert werden 300-Milimeter-Wafer aus Silizium für das Internet der Dinge und die Mobilität der Zukunft. Dabei setzt Bosch auf eine vollautomatisierte Fertigung mit AIoT-Technologie, also einer Kombination aus Künstlicher Intelligenz und dem Internet der Dinge. Damit schafft Bosch die Grundlage für eine datengesteuerte, kontinuierliche Verbesserung in der Produktion. So können zum Beispiel kleinste Fehler (Signaturen) bei der Wafer-Fertigung durch einen KI-Algorithmus erkannt, die Fehlerursachen analysiert und Prozessabweichungen unmittelbar korrigiert werden. Der Fertigungsprozess und die Qualität der Halbleiter werden auf diese Weise stetig verbessert, der Grad der Prozessstabilität weiter erhöht. Darüber hinaus können KI-Algorithmen präzise Vorhersagen treffen, ob und', metadata={'source': 'https://www.dresden.de/de/wirtschaft/tomorrow-s-home/kuenstliche-intelligenz.php'}),\n",
       "  Document(page_content='© Cloud and Heat | intoVR \\n\\n\\n\\n\\n\\n\\n\\n\\n© Cloud and Heat \\n\\n\\n\\n\\n\\n\\n\\n\\n\\n\\nBosch: Kritische KI-Chips für die Automobilindustrie\\n\\n\\n\\n\\n\\n\\n\\n\\n\\n\\n\\nDie hochautomatisierten Fertigungsanlagen analysieren ihre Prozessdaten selbst, um ihre Abläufe zu optimieren. Damit erhöht sich die Qualität der Chips bei sinkenden Fertigungskosten © Bosch', metadata={'source': 'https://www.dresden.de/de/wirtschaft/tomorrow-s-home/kuenstliche-intelligenz.php'}),\n",
       "  Document(page_content='und die Qualität der Halbleiter werden auf diese Weise stetig verbessert, der Grad der Prozessstabilität weiter erhöht. Darüber hinaus können KI-Algorithmen präzise Vorhersagen treffen, ob und wann eine Fertigungsmaschine oder ein Roboter gewartet oder nachjustiert werden müssen. Das verringert nicht nur die Anzahl der Defekte, sondern auch den bisher für die Wartung benötigen Arbeitsaufwand. Ein weiterer Bereich, in dem KI zum Einsatz kommt, ist die Produktionssteuerung. Hier hilft sie mit ihrer Daten- und Rechenpower, die Wafer möglichst zeit- und kostensparend durch die bis zu 700 Prozessschritte an den rund 100 Anlagen im Werk zu navigieren.', metadata={'source': 'https://www.dresden.de/de/wirtschaft/tomorrow-s-home/kuenstliche-intelligenz.php'}),\n",
       "  Document(page_content='Bereits seit 20 Jahren produziert GLOBALFOUNDRIES\\xa0am Dresdner Standort. Mit mittlerweile mehr als 3.000 Mitarbeitern und einer Gesamtinvestition von über 12 Milliarden Euro ist die „Dresden Fab 1“ Europas größtes und modernstes Halbleiterwerk. In über 1.000 Arbeitsschritten und mit der Unterstützung von Edge-KI-Lösungen baut Globalfoundries hier modernste Mikrochips für Technologieunternehmen und Autohersteller auf der ganzen Welt. Die Mikrochips werden mit hochpräzisen Geräten auf Siliziumscheiben (Wafer) hergestellt, die bis zu 22 Nanometer kleine Strukturen aufweisen. Mit seiner speziellen 22FDX-Technologie kann Globalfoundries Chips mit besonders energieeffizienten Schaltkreisen bauen, die unter anderem für die Entwicklung neuronaler Netze eingesetzt werden. Als Beispiele können hier unter anderem das internationale „Human Brain Project“ sowie das „Zen“-Konzept und das Projekt „Spinnaker 2“der TU Dresden genannt werden. GLOBALFOUNDRIES hat durch sein Engagement in Forschung und', metadata={'source': 'https://www.dresden.de/de/wirtschaft/tomorrow-s-home/kuenstliche-intelligenz.php'})],\n",
       " 'answer': 'Für die Wafer von Bosch sind bis zu 700 Prozessschritte notwendig. [Kontext: Bosch]'}"
      ]
     },
     "execution_count": 25,
     "metadata": {},
     "output_type": "execute_result"
    }
   ],
   "source": [
    "rag_chain.invoke({\"input\": \"Wie viele Prozessschritte sind für die Wafer von Bosch notwendig?\"})"
   ]
  },
  {
   "cell_type": "code",
   "execution_count": null,
   "metadata": {},
   "outputs": [],
   "source": []
  }
 ],
 "metadata": {
  "kernelspec": {
   "display_name": "langchain",
   "language": "python",
   "name": "python3"
  },
  "language_info": {
   "codemirror_mode": {
    "name": "ipython",
    "version": 3
   },
   "file_extension": ".py",
   "mimetype": "text/x-python",
   "name": "python",
   "nbconvert_exporter": "python",
   "pygments_lexer": "ipython3",
   "version": "3.11.9"
  }
 },
 "nbformat": 4,
 "nbformat_minor": 2
}
