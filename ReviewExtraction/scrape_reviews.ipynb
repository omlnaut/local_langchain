{
 "cells": [
  {
   "cell_type": "code",
   "execution_count": 1,
   "metadata": {},
   "outputs": [],
   "source": [
    "# import module\n",
    "import requests\n",
    "from bs4 import BeautifulSoup\n",
    "from pathlib import Path"
   ]
  },
  {
   "cell_type": "code",
   "execution_count": 2,
   "metadata": {},
   "outputs": [],
   "source": [
    "asin = 'B00J5P7GIA'\n",
    "url = 'https://www.amazon.com/product-reviews/{asin}/ref=cm_cr_arp_d_viewopt_srt?sortBy=recent&pageNumber={page}'"
   ]
  },
  {
   "cell_type": "code",
   "execution_count": 3,
   "metadata": {},
   "outputs": [],
   "source": [
    "HEADERS = ({'User-Agent':\n",
    "\t\t\t'Mozilla/5.0 (Windows NT 10.0; Win64; x64) \\\n",
    "\t\t\tAppleWebKit/537.36 (KHTML, like Gecko) \\\n",
    "\t\t\tChrome/90.0.4430.212 Safari/537.36',\n",
    "\t\t\t'Accept-Language': 'en-US, en;q=0.5'})\n",
    "\n",
    "# user define function\n",
    "# Scrape the data\n",
    "def getdata(url):\n",
    "\tr = requests.get(url, headers=HEADERS)\n",
    "\tif r.status_code == 200:\n",
    "\t\treturn r.text\n",
    "\telse:\n",
    "\t\tprint(r)\n",
    "\n",
    "\n",
    "def html_code(url):\n",
    "\n",
    "\t# pass the url\n",
    "\t# into getdata function\n",
    "\thtmldata = getdata(url)\n",
    "\tsoup = BeautifulSoup(htmldata, 'html.parser')\n",
    "\n",
    "\t# display html code\n",
    "\treturn (soup)\n",
    "\n",
    "def extract_reviews(soup):\n",
    "\treviews = []\n",
    "\touter_spans = soup.find_all('span', attrs={'data-hook': 'review-body'})\n",
    "\tfor outer_span in outer_spans:\n",
    "\t\tinner_span = outer_span.find('span')\n",
    "\t\treview_text = inner_span.text.strip()\n",
    "\t\treviews.append(review_text)\n",
    "\n",
    "\treturn reviews\n"
   ]
  },
  {
   "cell_type": "code",
   "execution_count": 4,
   "metadata": {},
   "outputs": [
    {
     "name": "stdout",
     "output_type": "stream",
     "text": [
      "Scraping page 1 of reviews for B00J5P7GIA\n",
      "Scraping page 2 of reviews for B00J5P7GIA\n",
      "Scraping page 3 of reviews for B00J5P7GIA\n",
      "Scraping page 4 of reviews for B00J5P7GIA\n"
     ]
    }
   ],
   "source": [
    "for page in [1,2,3,4]:\n",
    "    print(        'Scraping page {page} of reviews for {asin}'.format(page=page, asin=asin)\n",
    "    )\n",
    "    soup = html_code(url.format(asin=asin, page=page))\n",
    "    reviews = extract_reviews(soup)\n",
    "    with Path('raw_reviews/{asin}_{page}.txt'.format(asin=asin, page=page)).open('w') as f:\n",
    "        f.write('\\n'.join(reviews))\n"
   ]
  },
  {
   "cell_type": "code",
   "execution_count": 5,
   "metadata": {},
   "outputs": [
    {
     "data": {
      "text/plain": [
       "'https://www.amazon.com/product-reviews/B00J5P7GIA/ref=cm_cr_arp_d_viewopt_srt?sortBy=recent&pageNumber=4'"
      ]
     },
     "execution_count": 5,
     "metadata": {},
     "output_type": "execute_result"
    }
   ],
   "source": [
    "url.format(asin=asin, page=page)"
   ]
  },
  {
   "cell_type": "code",
   "execution_count": null,
   "metadata": {},
   "outputs": [],
   "source": []
  }
 ],
 "metadata": {
  "kernelspec": {
   "display_name": "langchain",
   "language": "python",
   "name": "python3"
  },
  "language_info": {
   "codemirror_mode": {
    "name": "ipython",
    "version": 3
   },
   "file_extension": ".py",
   "mimetype": "text/x-python",
   "name": "python",
   "nbconvert_exporter": "python",
   "pygments_lexer": "ipython3",
   "version": "3.10.10"
  },
  "orig_nbformat": 4
 },
 "nbformat": 4,
 "nbformat_minor": 2
}
