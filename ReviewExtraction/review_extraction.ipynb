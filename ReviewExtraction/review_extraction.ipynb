{
 "cells": [
  {
   "attachments": {},
   "cell_type": "markdown",
   "metadata": {},
   "source": [
    "# Setup"
   ]
  },
  {
   "cell_type": "code",
   "execution_count": 1,
   "metadata": {},
   "outputs": [],
   "source": [
    "from pathlib import Path\n",
    "import os"
   ]
  },
  {
   "cell_type": "code",
   "execution_count": 2,
   "metadata": {},
   "outputs": [
    {
     "data": {
      "text/plain": [
       "PosixPath('raw_reviews/review_0.txt')"
      ]
     },
     "execution_count": 2,
     "metadata": {},
     "output_type": "execute_result"
    }
   ],
   "source": [
    "review_paths = list(Path('raw_reviews').glob('*.txt'))\n",
    "review_paths[0]"
   ]
  },
  {
   "cell_type": "code",
   "execution_count": 3,
   "metadata": {},
   "outputs": [],
   "source": [
    "with Path('openai.key').open() as f:\n",
    "    os.environ['OPENAI_API_KEY'] = f.read().strip()"
   ]
  },
  {
   "attachments": {},
   "cell_type": "markdown",
   "metadata": {},
   "source": [
    "# Extraction"
   ]
  },
  {
   "cell_type": "code",
   "execution_count": 4,
   "metadata": {},
   "outputs": [],
   "source": [
    "import openai\n",
    "\n",
    "openai.api_key = os.environ['OPENAI_API_KEY']"
   ]
  },
  {
   "cell_type": "code",
   "execution_count": 5,
   "metadata": {},
   "outputs": [],
   "source": [
    "def get_completion(prompt, model=\"gpt-3.5-turbo\"):\n",
    "    messages = [{\"role\": \"user\", \"content\": prompt}]\n",
    "    response = openai.ChatCompletion.create(\n",
    "        model=model,\n",
    "        messages=messages,\n",
    "        temperature=0, # this is the degree of randomness of the model's output\n",
    "    )\n",
    "    return response.choices[0].message[\"content\"]"
   ]
  },
  {
   "cell_type": "code",
   "execution_count": 42,
   "metadata": {},
   "outputs": [],
   "source": [
    "template = \"\"\"The text in tripple backticks is a product review written in german. It is given in the format\n",
    "\n",
    "title: title of the review\n",
    "text: main text of the review\n",
    "rating: rating out of 5, 5 being best\n",
    "\n",
    "From those three information, extract problems with the product that can be used by the manufacturer of the product to improve it. Translate all parts of your reply to english. Return a list of short problem descriptions, separated by a new line.\n",
    "Put that list into a  code block.\n",
    "Example output format: \n",
    "\n",
    "```\n",
    "problem1\n",
    "problem2\n",
    "```\n",
    "Only include problems. For example do not include \"the product is great\" or \"the product is very good\".\n",
    "Make the problem descriptions as short as possible, but still understandable.\n",
    "Don't use word for word parts from the reviews, but try to generalize.\n",
    "It should not be obvious that the text is from a customer review. For example instead of this: \"missing part (circle attachment) can be a problem for some customers.\", write this: \"missing part (circle attachment)\". Or instead of \"need for own screw\" write \"screw missing\"\n",
    "Only include problems if they are clearly mentioned in the review. Don't add problems that are only implied. I.e. if the review says \"seems stable at first\" but does not mention any problems, don't add \"unstable\" as a problem.\n",
    "\n",
    "Here is the review:\n",
    "\"\"\""
   ]
  },
  {
   "cell_type": "code",
   "execution_count": 43,
   "metadata": {},
   "outputs": [],
   "source": [
    "import json\n",
    "import re\n",
    "\n",
    "def extract_json(response):\n",
    "    try:\n",
    "        return json.loads(response)\n",
    "\n",
    "    except:\n",
    "        match = re.search(\"```(.*?)```\", response, re.DOTALL)\n",
    "\n",
    "        if match:\n",
    "            json_data = match.group(1)\n",
    "            problems = json.loads(json_data)\n",
    "            return problems\n",
    "        else:\n",
    "            print(\"Failed to extract json from response:\", response)"
   ]
  },
  {
   "cell_type": "code",
   "execution_count": 44,
   "metadata": {},
   "outputs": [],
   "source": [
    "def load_review(idx: int):\n",
    "    return review_paths[idx].read_text()"
   ]
  },
  {
   "cell_type": "code",
   "execution_count": 45,
   "metadata": {},
   "outputs": [],
   "source": [
    "def build_prompt(template, review):\n",
    "    prompt = template + f\"```{review}```\"\n",
    "    prompt = prompt.replace('\\n', ' ')\n",
    "    prompt = prompt.replace(\"'\", '\"')\n",
    "    return prompt"
   ]
  },
  {
   "cell_type": "code",
   "execution_count": 46,
   "metadata": {},
   "outputs": [
    {
     "data": {
      "text/plain": [
       "'The text in tripple backticks is a product review written in german. It is given in the format  title: title of the review text: main text of the review rating: rating out of 5, 5 being best  From those three information, extract problems with the product that can be used by the manufacturer of the product to improve it. Translate all parts of your reply to english. Return a list of short problem descriptions, separated by a new line. Put that list into a  code block. Example output format:   ``` problem1 problem2 ``` Only include problems. For example do not include \"the product is great\" or \"the product is very good\". Make the problem descriptions as short as possible, but still understandable. Don\"t use word for word parts from the reviews, but try to generalize. It should not be obvious that the text is from a customer review. For example instead of this: \"missing part (circle attachment) can be a problem for some customers.\", write this: \"missing part (circle attachment)\". Or instead of \"need for own screw\" write \"screw missing\" Only include problems if they are clearly mentioned in the review. Don\"t add problems that are only implied. I.e. if the review says \"seems stable at first\" but does not mention any problems, don\"t add \"unstable\" as a problem.  Here is the review: ```title: Für den Preis in Ordnung  text: Grundlegend gut, abe eigene Schraube notwendig.Positiv:Der Rankobelisk ist grundlegend leicht aufzubauen und kann nach eigenen Bedürfnissen auch etwas kürzer aufgestellt, indem ein Teil der Streben weggelassen wird.Er sieht gut aus und mit dem Grün passt er gut zu den Blättern einer Pflanze. Er scheint im ersten Moment stabil.Die Vorbohrungen waren gut und auch an der passenden Stelle zu finden, sodass das Zusammenbauen leicht war - bis auf einen negativen Punkt.Kritik: der Aufsatz, der die vier Seitenstränge oben zusammenhängt war in meinem Fall lackiert, sodass die Mutter nicht passte und sich verkeilte. Die Alternative kann daher eine eigene Schraube darstellen. Jetzt fehlt zwar der Aufsatz mit dem Kreis, was mich jedoch stört. Wer darauf nicht viel Wert legt, kann sich den Obelisken kaufen.  rating: 3,0 von 5 Sternen  ```'"
      ]
     },
     "execution_count": 46,
     "metadata": {},
     "output_type": "execute_result"
    }
   ],
   "source": [
    "build_prompt(template, load_review(0))"
   ]
  },
  {
   "cell_type": "code",
   "execution_count": 47,
   "metadata": {},
   "outputs": [
    {
     "name": "stdout",
     "output_type": "stream",
     "text": [
      "Review 0\n",
      "Review 1\n",
      "Review 2\n",
      "Review 3\n",
      "Review 4\n",
      "Review 5\n",
      "Review 6\n",
      "Review 7\n",
      "Review 8\n",
      "Review 9\n"
     ]
    }
   ],
   "source": [
    "problems = []\n",
    "for i in range(10):\n",
    "    print(f\"Review {i}\")\n",
    "    prompt = build_prompt(template, load_review(i))\n",
    "    response = get_completion(prompt)\n",
    "    problems.append(response)\n",
    "    "
   ]
  },
  {
   "cell_type": "code",
   "execution_count": 48,
   "metadata": {},
   "outputs": [],
   "source": [
    "problem_list = []\n",
    "for problem in problems:\n",
    "    sub_problems = problem.split('\\n')\n",
    "    for sub_problem in sub_problems:\n",
    "        if '```' in sub_problem:\n",
    "            continue\n",
    "        if sub_problem.startswith('-'):\n",
    "            sub_problem = sub_problem[1:].strip()\n",
    "        problem_list.append(sub_problem)"
   ]
  },
  {
   "cell_type": "code",
   "execution_count": 49,
   "metadata": {},
   "outputs": [
    {
     "data": {
      "text/plain": [
       "['own screw necessary ',\n",
       " 'top attachment not fitting ',\n",
       " 'missing circle attachment ',\n",
       " 'many parts to assemble ',\n",
       " 'No problems mentioned in the review. ',\n",
       " 'None of the problems are clearly mentioned in the review. ',\n",
       " 'easy assembly ',\n",
       " 'fulfills its purpose ',\n",
       " 'looks good ',\n",
       " 'uncertainty about durability after winter season ',\n",
       " 'rust after one year ',\n",
       " 'assembly problems with other products from the same brand ',\n",
       " 'None of the problems are clearly mentioned in the review. ',\n",
       " 'many individual parts ',\n",
       " 'difficult to assemble ',\n",
       " 'necessary stability ',\n",
       " 'None mentioned ']"
      ]
     },
     "execution_count": 49,
     "metadata": {},
     "output_type": "execute_result"
    }
   ],
   "source": [
    "problem_list"
   ]
  },
  {
   "attachments": {},
   "cell_type": "markdown",
   "metadata": {},
   "source": [
    "Putting that into gpt4 with the following prompt gave results:\n",
    "\n",
    "**prompt**\n",
    "\n",
    "From this list of information extracted from a product review, extract all points that can be used by the manufacturer of the product to improve the product. If similar points are included in the list, generalize them into one single item.\n",
    "\n",
    "**result**\n",
    "\n",
    "Based on the feedback provided, here are the points that the manufacturer can use to improve the product:\n",
    "\n",
    "- Include all necessary screws with the product.\n",
    "- Improve the fit of the top attachment.\n",
    "- Ensure all attachments (like the circle attachment) are included in the package.\n",
    "- Reduce the number of parts to assemble, or provide a clearer assembly guide.\n",
    "- Improve the durability of the product, particularly for withstanding winter seasons.\n",
    "- Address the issue of rust after one year.\n",
    "- Address general assembly problems, potentially identified across other products from the same brand.\n",
    "- Ensure necessary stability of the product."
   ]
  },
  {
   "attachments": {},
   "cell_type": "markdown",
   "metadata": {},
   "source": []
  }
 ],
 "metadata": {
  "kernelspec": {
   "display_name": "langchain",
   "language": "python",
   "name": "python3"
  },
  "language_info": {
   "codemirror_mode": {
    "name": "ipython",
    "version": 3
   },
   "file_extension": ".py",
   "mimetype": "text/x-python",
   "name": "python",
   "nbconvert_exporter": "python",
   "pygments_lexer": "ipython3",
   "version": "3.10.10"
  },
  "orig_nbformat": 4
 },
 "nbformat": 4,
 "nbformat_minor": 2
}
