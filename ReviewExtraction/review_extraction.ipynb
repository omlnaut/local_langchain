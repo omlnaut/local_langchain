{
 "cells": [
  {
   "attachments": {},
   "cell_type": "markdown",
   "metadata": {},
   "source": [
    "# Setup"
   ]
  },
  {
   "cell_type": "code",
   "execution_count": 1,
   "metadata": {},
   "outputs": [],
   "source": [
    "from pathlib import Path\n",
    "import os"
   ]
  },
  {
   "cell_type": "code",
   "execution_count": 2,
   "metadata": {},
   "outputs": [
    {
     "data": {
      "text/plain": [
       "PosixPath('raw_reviews/review_0.txt')"
      ]
     },
     "execution_count": 2,
     "metadata": {},
     "output_type": "execute_result"
    }
   ],
   "source": [
    "review_paths = list(Path('raw_reviews').glob('*.txt'))\n",
    "review_paths[0]"
   ]
  },
  {
   "cell_type": "code",
   "execution_count": 3,
   "metadata": {},
   "outputs": [],
   "source": [
    "with Path('openai.key').open() as f:\n",
    "    os.environ['OPENAI_API_KEY'] = f.read().strip()"
   ]
  },
  {
   "attachments": {},
   "cell_type": "markdown",
   "metadata": {},
   "source": [
    "# Extraction"
   ]
  },
  {
   "cell_type": "code",
   "execution_count": 4,
   "metadata": {},
   "outputs": [],
   "source": [
    "import openai\n",
    "\n",
    "openai.api_key = os.environ['OPENAI_API_KEY']"
   ]
  },
  {
   "cell_type": "code",
   "execution_count": 5,
   "metadata": {},
   "outputs": [],
   "source": [
    "def get_completion(prompt, model=\"gpt-3.5-turbo\"):\n",
    "    messages = [{\"role\": \"user\", \"content\": prompt}]\n",
    "    response = openai.ChatCompletion.create(\n",
    "        model=model,\n",
    "        messages=messages,\n",
    "        temperature=0, # this is the degree of randomness of the model's output\n",
    "    )\n",
    "    return response.choices[0].message[\"content\"]"
   ]
  },
  {
   "cell_type": "code",
   "execution_count": 6,
   "metadata": {},
   "outputs": [],
   "source": [
    "template = \"\"\"The text in tripple backticks is a product review written in german. It is given in the format\n",
    "\n",
    "title: title of the review\n",
    "text: main text of the review\n",
    "rating: rating out of 5, 5 being best\n",
    "\n",
    "From those three information, extract problems with the product that can be used by the manufacturer of the product to improve it. Translate all parts of your reply to english. Add the information to the existing list of problems that is given below, following this json format:\n",
    "\n",
    "    [\n",
    "        {\n",
    "            \"topic\": \"Parts\",\n",
    "            \"text\": [\"<problem 1>\",  ...]\n",
    "        },\n",
    "        {\n",
    "            \"topic\": \"Quality\",\n",
    "            \"text\": [\"<problem 1>\",  ...]\n",
    "        },\n",
    "    ]\n",
    "\n",
    "Do not override problems that are already in the list, only add new ones.\n",
    "Extract the topics from the review, the ones above are only examples. Add new topics if necessary. Only include topics for which at least one problem is found.\n",
    "Make the topics and text as short as possible, but still understandable.\n",
    "Don't use word for word parts from the reviews, but try to generalize.\n",
    "It should not be obvious that the text is from a customer review.\n",
    "Don't repeat the same problem multiple times. If a problem fits multiple of the above categories, only add it to one of them (doesn't matter which one).\n",
    "Only include problems if they are clearly mentioned in the review. Don't add problems that are only implied. I.e. if the review says \"seems stable at first\" but does not mention any problems, don't add \"unstable\" as a problem.\n",
    "\n",
    "Here are examples for how a review text translates to an problems:\n",
    "\n",
    "review example 1: The painted attachment caused problems with the nut, requiring a separate screw to be used.\n",
    "problem 1: (Topic is \"Parts\") \"painted attachment causes problem with the nut, sometimes requiring a separate screw to be used.\n",
    "\n",
    "\n",
    "Only return valid json as output, nothing else. The output must be able to load into pythons json.loads() without error. I.e. do not have any text outside the enclosing square brackets, do not add any comments, do not add any trailing commas, etc.\n",
    "Here is the review:\n",
    "\"\"\""
   ]
  },
  {
   "cell_type": "code",
   "execution_count": 7,
   "metadata": {},
   "outputs": [],
   "source": [
    "import json\n",
    "import re\n",
    "\n",
    "def extract_json(response):\n",
    "    try:\n",
    "        return json.loads(response)\n",
    "\n",
    "    except:\n",
    "        match = re.search(\"```(.*?)```\", response, re.DOTALL)\n",
    "\n",
    "        if match:\n",
    "            json_data = match.group(1)\n",
    "            problems = json.loads(json_data)\n",
    "            return problems\n",
    "        else:\n",
    "            print(\"Failed to extract json from response:\", response)"
   ]
  },
  {
   "cell_type": "code",
   "execution_count": 8,
   "metadata": {},
   "outputs": [],
   "source": [
    "def load_review(idx: int):\n",
    "    return review_paths[idx].read_text()"
   ]
  },
  {
   "cell_type": "code",
   "execution_count": 9,
   "metadata": {},
   "outputs": [],
   "source": [
    "def build_prompt(template, review, problems):\n",
    "    prompt = template + f\"```{review}```\"\n",
    "    prompt += f\"\\n json list of problems: ```{problems}```\"\n",
    "    prompt = prompt.replace('\\n', ' ')\n",
    "    prompt = prompt.replace(\"'\", '\"')\n",
    "    return prompt"
   ]
  },
  {
   "cell_type": "code",
   "execution_count": 10,
   "metadata": {},
   "outputs": [
    {
     "name": "stdout",
     "output_type": "stream",
     "text": [
      "Review 0\n",
      "Review 1\n",
      "Review 2\n",
      "Review 3\n"
     ]
    },
    {
     "ename": "JSONDecodeError",
     "evalue": "Expecting value: line 1 column 1 (char 0)",
     "output_type": "error",
     "traceback": [
      "\u001b[0;31m---------------------------------------------------------------------------\u001b[0m",
      "\u001b[0;31mJSONDecodeError\u001b[0m                           Traceback (most recent call last)",
      "Cell \u001b[0;32mIn[10], line 6\u001b[0m\n\u001b[1;32m      4\u001b[0m prompt \u001b[39m=\u001b[39m build_prompt(template, load_review(i), problems)\n\u001b[1;32m      5\u001b[0m response \u001b[39m=\u001b[39m get_completion(prompt)\n\u001b[0;32m----> 6\u001b[0m \u001b[39mif\u001b[39;00m (new_problems \u001b[39m:=\u001b[39m extract_json(response)) \u001b[39mis\u001b[39;00m \u001b[39mnot\u001b[39;00m \u001b[39mNone\u001b[39;00m:\n\u001b[1;32m      7\u001b[0m     problems \u001b[39m=\u001b[39m new_problems\n",
      "Cell \u001b[0;32mIn[7], line 13\u001b[0m, in \u001b[0;36mextract_json\u001b[0;34m(response)\u001b[0m\n\u001b[1;32m     11\u001b[0m \u001b[39mif\u001b[39;00m match:\n\u001b[1;32m     12\u001b[0m     json_data \u001b[39m=\u001b[39m match\u001b[39m.\u001b[39mgroup(\u001b[39m1\u001b[39m)\n\u001b[0;32m---> 13\u001b[0m     problems \u001b[39m=\u001b[39m json\u001b[39m.\u001b[39;49mloads(json_data)\n\u001b[1;32m     14\u001b[0m     \u001b[39mreturn\u001b[39;00m problems\n\u001b[1;32m     15\u001b[0m \u001b[39melse\u001b[39;00m:\n",
      "File \u001b[0;32m~/mambaforge/envs/langchain/lib/python3.10/json/__init__.py:346\u001b[0m, in \u001b[0;36mloads\u001b[0;34m(s, cls, object_hook, parse_float, parse_int, parse_constant, object_pairs_hook, **kw)\u001b[0m\n\u001b[1;32m    341\u001b[0m     s \u001b[39m=\u001b[39m s\u001b[39m.\u001b[39mdecode(detect_encoding(s), \u001b[39m'\u001b[39m\u001b[39msurrogatepass\u001b[39m\u001b[39m'\u001b[39m)\n\u001b[1;32m    343\u001b[0m \u001b[39mif\u001b[39;00m (\u001b[39mcls\u001b[39m \u001b[39mis\u001b[39;00m \u001b[39mNone\u001b[39;00m \u001b[39mand\u001b[39;00m object_hook \u001b[39mis\u001b[39;00m \u001b[39mNone\u001b[39;00m \u001b[39mand\u001b[39;00m\n\u001b[1;32m    344\u001b[0m         parse_int \u001b[39mis\u001b[39;00m \u001b[39mNone\u001b[39;00m \u001b[39mand\u001b[39;00m parse_float \u001b[39mis\u001b[39;00m \u001b[39mNone\u001b[39;00m \u001b[39mand\u001b[39;00m\n\u001b[1;32m    345\u001b[0m         parse_constant \u001b[39mis\u001b[39;00m \u001b[39mNone\u001b[39;00m \u001b[39mand\u001b[39;00m object_pairs_hook \u001b[39mis\u001b[39;00m \u001b[39mNone\u001b[39;00m \u001b[39mand\u001b[39;00m \u001b[39mnot\u001b[39;00m kw):\n\u001b[0;32m--> 346\u001b[0m     \u001b[39mreturn\u001b[39;00m _default_decoder\u001b[39m.\u001b[39;49mdecode(s)\n\u001b[1;32m    347\u001b[0m \u001b[39mif\u001b[39;00m \u001b[39mcls\u001b[39m \u001b[39mis\u001b[39;00m \u001b[39mNone\u001b[39;00m:\n\u001b[1;32m    348\u001b[0m     \u001b[39mcls\u001b[39m \u001b[39m=\u001b[39m JSONDecoder\n",
      "File \u001b[0;32m~/mambaforge/envs/langchain/lib/python3.10/json/decoder.py:337\u001b[0m, in \u001b[0;36mJSONDecoder.decode\u001b[0;34m(self, s, _w)\u001b[0m\n\u001b[1;32m    332\u001b[0m \u001b[39mdef\u001b[39;00m \u001b[39mdecode\u001b[39m(\u001b[39mself\u001b[39m, s, _w\u001b[39m=\u001b[39mWHITESPACE\u001b[39m.\u001b[39mmatch):\n\u001b[1;32m    333\u001b[0m \u001b[39m    \u001b[39m\u001b[39m\"\"\"Return the Python representation of ``s`` (a ``str`` instance\u001b[39;00m\n\u001b[1;32m    334\u001b[0m \u001b[39m    containing a JSON document).\u001b[39;00m\n\u001b[1;32m    335\u001b[0m \n\u001b[1;32m    336\u001b[0m \u001b[39m    \"\"\"\u001b[39;00m\n\u001b[0;32m--> 337\u001b[0m     obj, end \u001b[39m=\u001b[39m \u001b[39mself\u001b[39;49m\u001b[39m.\u001b[39;49mraw_decode(s, idx\u001b[39m=\u001b[39;49m_w(s, \u001b[39m0\u001b[39;49m)\u001b[39m.\u001b[39;49mend())\n\u001b[1;32m    338\u001b[0m     end \u001b[39m=\u001b[39m _w(s, end)\u001b[39m.\u001b[39mend()\n\u001b[1;32m    339\u001b[0m     \u001b[39mif\u001b[39;00m end \u001b[39m!=\u001b[39m \u001b[39mlen\u001b[39m(s):\n",
      "File \u001b[0;32m~/mambaforge/envs/langchain/lib/python3.10/json/decoder.py:355\u001b[0m, in \u001b[0;36mJSONDecoder.raw_decode\u001b[0;34m(self, s, idx)\u001b[0m\n\u001b[1;32m    353\u001b[0m     obj, end \u001b[39m=\u001b[39m \u001b[39mself\u001b[39m\u001b[39m.\u001b[39mscan_once(s, idx)\n\u001b[1;32m    354\u001b[0m \u001b[39mexcept\u001b[39;00m \u001b[39mStopIteration\u001b[39;00m \u001b[39mas\u001b[39;00m err:\n\u001b[0;32m--> 355\u001b[0m     \u001b[39mraise\u001b[39;00m JSONDecodeError(\u001b[39m\"\u001b[39m\u001b[39mExpecting value\u001b[39m\u001b[39m\"\u001b[39m, s, err\u001b[39m.\u001b[39mvalue) \u001b[39mfrom\u001b[39;00m \u001b[39mNone\u001b[39;00m\n\u001b[1;32m    356\u001b[0m \u001b[39mreturn\u001b[39;00m obj, end\n",
      "\u001b[0;31mJSONDecodeError\u001b[0m: Expecting value: line 1 column 1 (char 0)"
     ]
    }
   ],
   "source": [
    "problems = []\n",
    "for i in range(10):\n",
    "    print(f\"Review {i}\")\n",
    "    prompt = build_prompt(template, load_review(i), problems)\n",
    "    response = get_completion(prompt)\n",
    "    if (new_problems := extract_json(response)) is not None:\n",
    "        problems = new_problems"
   ]
  },
  {
   "cell_type": "code",
   "execution_count": 11,
   "metadata": {},
   "outputs": [
    {
     "data": {
      "text/plain": [
       "'```title: Schlechte Qualität, Finger weg! \\ntext: Ich habe das Produkt gekauft und war sehr enttäuscht. Die Qualität ist sehr schlecht und es hat nicht lange gehalten. Finger weg! \\nrating: 1,0 von 5 Sternen``` \\n\\njson list of problems: \\n```\\n[\\n  {\\n    \"topic\": \"Quality\",\\n    \"text\": [\\n      \"poor quality, product did not last long.\"\\n    ]\\n  }\\n]\\n```'"
      ]
     },
     "execution_count": 11,
     "metadata": {},
     "output_type": "execute_result"
    }
   ],
   "source": [
    "response"
   ]
  },
  {
   "cell_type": "code",
   "execution_count": 12,
   "metadata": {},
   "outputs": [
    {
     "data": {
      "text/plain": [
       "[{'topic': 'Parts', 'text': ['no problems mentioned.']},\n",
       " {'topic': 'Quality', 'text': ['no problems mentioned.']},\n",
       " {'topic': 'Assembly',\n",
       "  'text': ['assembly instructions could be clearer, especially for beginners.']},\n",
       " {'topic': 'Price', 'text': ['good price-performance ratio.']}]"
      ]
     },
     "execution_count": 12,
     "metadata": {},
     "output_type": "execute_result"
    }
   ],
   "source": [
    "problems"
   ]
  },
  {
   "cell_type": "code",
   "execution_count": null,
   "metadata": {},
   "outputs": [],
   "source": []
  }
 ],
 "metadata": {
  "kernelspec": {
   "display_name": "langchain",
   "language": "python",
   "name": "python3"
  },
  "language_info": {
   "codemirror_mode": {
    "name": "ipython",
    "version": 3
   },
   "file_extension": ".py",
   "mimetype": "text/x-python",
   "name": "python",
   "nbconvert_exporter": "python",
   "pygments_lexer": "ipython3",
   "version": "3.10.10"
  },
  "orig_nbformat": 4
 },
 "nbformat": 4,
 "nbformat_minor": 2
}
